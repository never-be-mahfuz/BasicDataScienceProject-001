{
  "cells": [
    {
      "cell_type": "markdown",
      "id": "aad3a457",
      "metadata": {
        "id": "aad3a457"
      },
      "source": [
        "## Project 2: Dataset Merging, Data Manipulation, K-Means Clustering"
      ]
    },
    {
      "cell_type": "code",
      "source": [
        "# @title Loading packages\n",
        "import pandas as pd\n",
        "import random\n",
        "from sklearn.cluster import KMeans\n",
        "import numpy as np\n",
        "import matplotlib.pyplot as plt"
      ],
      "metadata": {
        "id": "VH2jtqDHPYIw"
      },
      "id": "VH2jtqDHPYIw",
      "execution_count": 40,
      "outputs": []
    },
    {
      "cell_type": "code",
      "source": [
        "students = [f\"Student {i}\" for i in range(1, 51)]\n",
        "reg_numbers = [f\"REG-{1000+i}\" for i in range(50)]\n",
        "tt1_marks = [random.randint(0, 20) for _ in range(50)]\n",
        "tt2_marks = [random.randint(0, 20) for _ in range(50)]"
      ],
      "metadata": {
        "id": "V5xqvptyPbS2"
      },
      "id": "V5xqvptyPbS2",
      "execution_count": 41,
      "outputs": []
    },
    {
      "cell_type": "code",
      "source": [
        "# @title 01. Creating csv file of TT-1\n",
        "df_tt1 = pd.DataFrame({\"Registration Number\": reg_numbers, \"Name\": students, \"TT-1 Marks\": tt1_marks})\n",
        "df_tt1.to_csv(\"term-test-1-result.csv\", index=False) # creating csv file for TT-1"
      ],
      "metadata": {
        "id": "jk_i2dmkPdnH"
      },
      "id": "jk_i2dmkPdnH",
      "execution_count": 42,
      "outputs": []
    },
    {
      "cell_type": "code",
      "source": [
        "# @title 02. Creating csv file of TT-2\n",
        "df_tt2 = pd.DataFrame({\"Registration Number\": reg_numbers, \"Name\": students, \"TT-2 Marks\": tt2_marks})\n",
        "df_tt2.to_csv(\"term-test-2-result.csv\", index=False) # creating csv file for TT-2"
      ],
      "metadata": {
        "id": "F4rO4MQLXMv7"
      },
      "id": "F4rO4MQLXMv7",
      "execution_count": 43,
      "outputs": []
    },
    {
      "cell_type": "code",
      "execution_count": 44,
      "id": "cf9b171e",
      "metadata": {
        "id": "cf9b171e",
        "colab": {
          "base_uri": "https://localhost:8080/"
        },
        "outputId": "44d17a6d-bfc8-4cad-ac7a-ec8594e35e18"
      },
      "outputs": [
        {
          "output_type": "stream",
          "name": "stdout",
          "text": [
            "  Registration Number       Name  TT-1 Marks  TT-2 Marks\n",
            "0            REG-1000  Student 1           4          17\n",
            "1            REG-1001  Student 2           7          16\n",
            "2            REG-1002  Student 3           5           7\n",
            "3            REG-1003  Student 4          13           4\n",
            "4            REG-1004  Student 5          11          17\n"
          ]
        }
      ],
      "source": [
        "# @title 03. Loading both TT-1 and TT-2 and marging both files\n",
        "# loadng data\n",
        "df_tt1 = pd.read_csv(\"term-test-1-result.csv\")\n",
        "df_tt2 = pd.read_csv(\"term-test-2-result.csv\")\n",
        "\n",
        "merged_df = pd.merge(df_tt1, df_tt2, on=[\"Registration Number\", \"Name\"])\n",
        "print(merged_df.head())"
      ]
    },
    {
      "cell_type": "code",
      "execution_count": 45,
      "id": "4088949b",
      "metadata": {
        "id": "4088949b"
      },
      "outputs": [],
      "source": [
        "# @title 04. Making new columns for best and average marks for both term tests!!\n",
        "merged_df[\"Best Marks\"] = merged_df[['TT-1 Marks', 'TT-2 Marks']].max(axis=1)\n",
        "merged_df[\"Average Marks\"] = merged_df[['TT-1 Marks', 'TT-2 Marks']].mean(axis=1)\n"
      ]
    },
    {
      "cell_type": "code",
      "source": [
        "print(merged_df.head(4))\n",
        "merged_df.info()"
      ],
      "metadata": {
        "colab": {
          "base_uri": "https://localhost:8080/"
        },
        "id": "BAcER5eKka7I",
        "outputId": "d0e524f0-30b7-40a1-95f3-52052cd3abd7"
      },
      "id": "BAcER5eKka7I",
      "execution_count": 46,
      "outputs": [
        {
          "output_type": "stream",
          "name": "stdout",
          "text": [
            "  Registration Number       Name  TT-1 Marks  TT-2 Marks  Best Marks  \\\n",
            "0            REG-1000  Student 1           4          17          17   \n",
            "1            REG-1001  Student 2           7          16          16   \n",
            "2            REG-1002  Student 3           5           7           7   \n",
            "3            REG-1003  Student 4          13           4          13   \n",
            "\n",
            "   Average Marks  \n",
            "0           10.5  \n",
            "1           11.5  \n",
            "2            6.0  \n",
            "3            8.5  \n",
            "<class 'pandas.core.frame.DataFrame'>\n",
            "RangeIndex: 50 entries, 0 to 49\n",
            "Data columns (total 6 columns):\n",
            " #   Column               Non-Null Count  Dtype  \n",
            "---  ------               --------------  -----  \n",
            " 0   Registration Number  50 non-null     object \n",
            " 1   Name                 50 non-null     object \n",
            " 2   TT-1 Marks           50 non-null     int64  \n",
            " 3   TT-2 Marks           50 non-null     int64  \n",
            " 4   Best Marks           50 non-null     int64  \n",
            " 5   Average Marks        50 non-null     float64\n",
            "dtypes: float64(1), int64(3), object(2)\n",
            "memory usage: 2.5+ KB\n"
          ]
        }
      ]
    },
    {
      "cell_type": "code",
      "source": [
        "# @title 05. Dropping both tt-1 and tt-2 columns\n",
        "merged_df.drop(columns=['TT-1 Marks', 'TT-2 Marks'], inplace=True)\n",
        "print(merged_df.head())"
      ],
      "metadata": {
        "colab": {
          "base_uri": "https://localhost:8080/"
        },
        "id": "po7pzuzObWIb",
        "outputId": "f32f49f8-06f4-4871-d777-9f89a25fa34e"
      },
      "id": "po7pzuzObWIb",
      "execution_count": 47,
      "outputs": [
        {
          "output_type": "stream",
          "name": "stdout",
          "text": [
            "  Registration Number       Name  Best Marks  Average Marks\n",
            "0            REG-1000  Student 1          17           10.5\n",
            "1            REG-1001  Student 2          16           11.5\n",
            "2            REG-1002  Student 3           7            6.0\n",
            "3            REG-1003  Student 4          13            8.5\n",
            "4            REG-1004  Student 5          17           14.0\n"
          ]
        }
      ]
    },
    {
      "cell_type": "code",
      "execution_count": 48,
      "id": "e075ea3e",
      "metadata": {
        "id": "e075ea3e",
        "colab": {
          "base_uri": "https://localhost:8080/"
        },
        "outputId": "2083b7dc-efbf-4959-ca66-901d46210d41"
      },
      "outputs": [
        {
          "output_type": "stream",
          "name": "stdout",
          "text": [
            "  Registration Number       Name  Best Marks  Average Marks  Attendance Marks  \\\n",
            "0            REG-1000  Student 1          17           10.5                10   \n",
            "1            REG-1001  Student 2          16           11.5                 7   \n",
            "2            REG-1002  Student 3           7            6.0                 5   \n",
            "3            REG-1003  Student 4          13            8.5                 9   \n",
            "4            REG-1004  Student 5          17           14.0                 9   \n",
            "\n",
            "   Term Final Marks  Final Marks  \n",
            "0                98         89.1  \n",
            "1                47         51.4  \n",
            "2                78         65.6  \n",
            "3                56         56.7  \n",
            "4                80         79.0  \n"
          ]
        }
      ],
      "source": [
        "# @title 06. Making new csv file adding Attendence and Term Final result\n",
        "attendance = [random.randint(5, 10) for _ in range(50)]\n",
        "term_final = [random.randint(40, 100) for _ in range(50)]\n",
        "\n",
        "attendance_df = pd.DataFrame({\"Registration Number\": reg_numbers, \"Attendance Marks\": attendance, \"Term Final Marks\": term_final})\n",
        "\n",
        "final_df = pd.merge(merged_df, attendance_df, on=\"Registration Number\")\n",
        "final_df[\"Final Marks\"] = final_df[\"Term Final Marks\"] * 0.7 + final_df[\"Average Marks\"] + final_df[\"Attendance Marks\"]\n",
        "\n",
        "print(final_df.head())"
      ]
    },
    {
      "cell_type": "code",
      "execution_count": 49,
      "id": "358880e4",
      "metadata": {
        "id": "358880e4"
      },
      "outputs": [],
      "source": [
        "# @title 07. Writing csv file\n",
        "final_df.to_csv(\"final result.csv\", index=False)"
      ]
    },
    {
      "cell_type": "markdown",
      "source": [
        "### 08. Cluster Model"
      ],
      "metadata": {
        "id": "FtMxrOqOqfmK"
      },
      "id": "FtMxrOqOqfmK"
    },
    {
      "cell_type": "code",
      "source": [
        "final_df.columns"
      ],
      "metadata": {
        "colab": {
          "base_uri": "https://localhost:8080/"
        },
        "id": "wk_913E-mTQo",
        "outputId": "9232c8f2-cf74-45bf-d3b2-cdbf93285b53"
      },
      "id": "wk_913E-mTQo",
      "execution_count": 50,
      "outputs": [
        {
          "output_type": "execute_result",
          "data": {
            "text/plain": [
              "Index(['Registration Number', 'Name', 'Best Marks', 'Average Marks',\n",
              "       'Attendance Marks', 'Term Final Marks', 'Final Marks'],\n",
              "      dtype='object')"
            ]
          },
          "metadata": {},
          "execution_count": 50
        }
      ]
    },
    {
      "cell_type": "code",
      "source": [
        "# X = final_df[[\"Final Marks\", \"Best Marks\"]]\n",
        "X = final_df[[\"Final Marks\"]] # clustering with single feature"
      ],
      "metadata": {
        "id": "ifCPM_24mN0p"
      },
      "id": "ifCPM_24mN0p",
      "execution_count": 51,
      "outputs": []
    },
    {
      "cell_type": "code",
      "source": [
        "# identlifying the number of clusters with Elbow Point graphs\n",
        "wcss=[]\n",
        "for i in range(1,11):\n",
        "  kmeans = KMeans(n_clusters=i, init='k-means++', random_state=36)\n",
        "  kmeans.fit(X)\n",
        "  wcss.append(kmeans.inertia_)\n",
        "plt.figure(figsize=(10,6))\n",
        "plt.plot(range(1,11), wcss)\n",
        "plt.title('The Elbow Point Graph')\n",
        "plt.xlabel('Number of Clusters (K)')\n",
        "plt.ylabel('wcss')\n",
        "plt.show()"
      ],
      "metadata": {
        "colab": {
          "base_uri": "https://localhost:8080/",
          "height": 564
        },
        "id": "9x1t6yASlNm7",
        "outputId": "4c1c0bc8-dbde-48b1-8092-959030082a75"
      },
      "id": "9x1t6yASlNm7",
      "execution_count": 54,
      "outputs": [
        {
          "output_type": "display_data",
          "data": {
            "text/plain": [
              "<Figure size 1000x600 with 1 Axes>"
            ],
            "image/png": "[encoded data removed]"
          },
          "metadata": {}
        }
      ]
    },
    {
      "cell_type": "code",
      "execution_count": 57,
      "id": "d14407bf",
      "metadata": {
        "id": "d14407bf",
        "colab": {
          "base_uri": "https://localhost:8080/",
          "height": 472
        },
        "outputId": "e5718a92-0f1a-4a1b-8d7d-de37c6a75c86"
      },
      "outputs": [
        {
          "output_type": "display_data",
          "data": {
            "text/plain": [
              "<Figure size 640x480 with 1 Axes>"
            ],
            "image/png": "[encoded data removed]"
          },
          "metadata": {}
        }
      ],
      "source": [
        "# @title 08. Fitting K-Means Clustering model\n",
        "X = final_df[['Final Marks']].values\n",
        "kmeans = KMeans(n_clusters=4, random_state=36, n_init=10)\n",
        "final_df[\"Cluster\"] = kmeans.fit_predict(X)\n",
        "\n",
        "plt.scatter(final_df[[\"Final Marks\"]], np.zeros_like(final_df[\"Final Marks\"]), c=final_df[\"Cluster\"], cmap=\"viridis\")\n",
        "plt.xlabel(\"Final Marks\")\n",
        "plt.title(\"K-Means Clustering of Final Marks\")\n",
        "plt.show()"
      ]
    },
    {
      "cell_type": "code",
      "source": [],
      "metadata": {
        "id": "ilmKItZacduY"
      },
      "id": "ilmKItZacduY",
      "execution_count": 53,
      "outputs": []
    }
  ],
  "metadata": {
    "colab": {
      "provenance": []
    },
    "language_info": {
      "name": "python"
    },
    "kernelspec": {
      "name": "python3",
      "display_name": "Python 3"
    }
  },
  "nbformat": 4,
  "nbformat_minor": 5
}